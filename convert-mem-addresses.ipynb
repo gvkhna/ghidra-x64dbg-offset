{
 "cells": [
  {
   "cell_type": "code",
   "execution_count": 31,
   "metadata": {},
   "outputs": [
    {
     "name": "stdout",
     "output_type": "stream",
     "text": [
      "New Offset for Address Translation: 00A00000\n",
      "ghidra_address:  00A22BD5\n",
      "debugger address:  01422BD5\n"
     ]
    }
   ],
   "source": [
    "# Constants: update these based on new session data\n",
    "debugger_base_hex = \"00E00000\"  # Update this from x64dbg during each new debugging session\n",
    "ghidra_base_hex = \"00400000\"    # Typically consistent, adjust if necessary\n",
    "offset_hex = format(int(debugger_base_hex, 16) - int(ghidra_base_hex, 16), '08X')\n",
    "print(\"New Offset for Address Translation:\", offset_hex)\n",
    "\n",
    "new_ghidra_address_hex = \"00a22bd5\"  # Example Ghidra address in lowercase\n",
    "new_ghidra_address_hex = new_ghidra_address_hex.upper()\n",
    "offset_dec = int(offset_hex, 16)\n",
    "new_ghidra_address_dec = int(new_ghidra_address_hex, 16)\n",
    "debugger_address_dec = new_ghidra_address_dec + offset_dec\n",
    "debugger_address_hex = format(debugger_address_dec, '08X')\n",
    "new_ghidra_address_hex, debugger_address_hex\n",
    "print(\"ghidra_address: \", new_ghidra_address_hex)\n",
    "print(\"debugger address: \", debugger_address_hex)\n",
    "\n"
   ]
  },
  {
   "cell_type": "code",
   "execution_count": 15,
   "metadata": {},
   "outputs": [
    {
     "name": "stdout",
     "output_type": "stream",
     "text": [
      "hex_base_offset: 00A00000\n"
     ]
    }
   ],
   "source": [
    "# Redefine the two addresses provided for a known string in Ghidra and the debugger to ensure correct format\n",
    "ghidra_known_address_hex = \"00a6c0f8\"\n",
    "debugger_known_address_hex = \"0146C0F8\"\n",
    "offset_hex = format(int(debugger_known_address_hex, 16) - int(ghidra_known_address_hex, 16), '08X')\n",
    "print(\"hex_base_offset: \" + offset_hex)"
   ]
  },
  {
   "cell_type": "code",
   "execution_count": 30,
   "metadata": {},
   "outputs": [
    {
     "data": {
      "text/plain": [
       "'00A22BE4'"
      ]
     },
     "execution_count": 30,
     "metadata": {},
     "output_type": "execute_result"
    }
   ],
   "source": [
    "\n",
    "# Current debugger address to translate back to Ghidra\n",
    "debugger_address_hex = \"01422BE4\"\n",
    "\n",
    "offset_dec = int(debugger_base_hex, 16) - int(ghidra_base_hex, 16)\n",
    "debugger_address_dec = int(debugger_address_hex, 16)\n",
    "ghidra_address_dec = debugger_address_dec - offset_dec\n",
    "ghidra_address_hex = format(ghidra_address_dec, '08X')\n",
    "ghidra_address_hex"
   ]
  }
 ],
 "metadata": {
  "kernelspec": {
   "display_name": "base",
   "language": "python",
   "name": "python3"
  },
  "language_info": {
   "codemirror_mode": {
    "name": "ipython",
    "version": 3
   },
   "file_extension": ".py",
   "mimetype": "text/x-python",
   "name": "python",
   "nbconvert_exporter": "python",
   "pygments_lexer": "ipython3",
   "version": "3.11.7"
  }
 },
 "nbformat": 4,
 "nbformat_minor": 2
}
